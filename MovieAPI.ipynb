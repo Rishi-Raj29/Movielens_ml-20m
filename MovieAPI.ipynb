{
 "cells": [
  {
   "cell_type": "code",
   "execution_count": 15,
   "metadata": {},
   "outputs": [],
   "source": [
    "#! pip install jupyter_kernel_gateway"
   ]
  },
  {
   "cell_type": "code",
   "execution_count": 6,
   "metadata": {},
   "outputs": [],
   "source": [
    "import json\n",
    "import pandas as pd\n",
    "import psycopg2 as ps"
   ]
  },
  {
   "cell_type": "code",
   "execution_count": 7,
   "metadata": {},
   "outputs": [],
   "source": [
    "#functions\n",
    "\n",
    "def connect_to_db(host_name, dbname,  username, password, port):\n",
    "  try:\n",
    "    #dsn_tns=cx_Oracle.makedsn( host=host_name, port=port, service_name=service_name)\n",
    "    conn = ps.connect(host=host_name,database=dbname,user=username,password=password,port=port)\n",
    "\n",
    "  except ps.OperationalError as e:\n",
    "    raise e\n",
    "  else:\n",
    "    print('Successfully Connected')\n",
    "    return conn"
   ]
  },
  {
   "cell_type": "code",
   "execution_count": 8,
   "metadata": {},
   "outputs": [
    {
     "name": "stdout",
     "output_type": "stream",
     "text": [
      "Successfully Connected\n"
     ]
    }
   ],
   "source": [
    "#database credentials\n",
    "host_name='localhost'\n",
    "dbname='postgres'\n",
    "  #service_name='orclpdb.t.hu'\n",
    "  #dsn_name= 'localhost:1521/orclpdb.t.hu'\n",
    "username='postgres'\n",
    "password='123'\n",
    "port='5432'\n",
    "conn= None\n",
    "\n",
    "#establish a connection to db\n",
    "\n",
    "conn= connect_to_db(host_name, dbname,username,password, port)\n"
   ]
  },
  {
   "cell_type": "code",
   "execution_count": 14,
   "metadata": {},
   "outputs": [],
   "source": [
    "REQUEST = json.dumps({\n",
    "    'path' : {},\n",
    "    'args' : {}\n",
    "})\n"
   ]
  },
  {
   "cell_type": "code",
   "execution_count": null,
   "metadata": {},
   "outputs": [],
   "source": [
    "#GET /Movies/: genres\n",
    "\n",
    "request = json.loads(REQUEST)\n",
    "genres = request['path'].get('genres')\n",
    "\n",
    "q= '''SELECT * from movies where \"genres\" = \"{genres}\"'''.format(genres=genres)\n",
    "print('{\"genres\":%s}' % pd.read_sql_query(q,conn).to_json(orient='records'))"
   ]
  },
  {
   "cell_type": "code",
   "execution_count": null,
   "metadata": {},
   "outputs": [],
   "source": [
    "#GET /Movies/: rating\n",
    "\n",
    "request = json.loads(REQUEST)\n",
    "rating = request['path'].get('rating')\n",
    "\n",
    "q= '''SELECT a.*, b.rating from movies a join ratings b on a.movieid= b.movieid where \"rating\" = \"{rating}\"'''.format(rating=rating)\n",
    "print('{\"genres\":%s}' % pd.read_sql_query(q,conn).to_json(orient='records'))"
   ]
  },
  {
   "cell_type": "code",
   "execution_count": null,
   "metadata": {},
   "outputs": [],
   "source": [
    "#GET /Movies/: Year range\n",
    "\n",
    "request = json.loads(REQUEST)\n",
    "year = request['path'].get('year')\n",
    "\n",
    "q= '''SELECT * from movies where \"title\" like \"%{year}%\"'''.format(year=year)\n",
    "print('{\"genres\":%s}' % pd.read_sql_query(q,conn).to_json(orient='records'))"
   ]
  },
  {
   "cell_type": "code",
   "execution_count": 16,
   "metadata": {},
   "outputs": [],
   "source": [
    "#Run in terminal\n",
    "#jupyter kernelgateway --\n",
    "#KernelGatewayApp.api='kernel_gateway.notebook_http' --\n",
    "#seed_uri='./MovieAPI.ipynb' --port 9090"
   ]
  },
  {
   "cell_type": "code",
   "execution_count": null,
   "metadata": {},
   "outputs": [],
   "source": []
  }
 ],
 "metadata": {
  "kernelspec": {
   "display_name": "Python 3",
   "language": "python",
   "name": "python3"
  },
  "language_info": {
   "codemirror_mode": {
    "name": "ipython",
    "version": 3
   },
   "file_extension": ".py",
   "mimetype": "text/x-python",
   "name": "python",
   "nbconvert_exporter": "python",
   "pygments_lexer": "ipython3",
   "version": "3.7.3"
  }
 },
 "nbformat": 4,
 "nbformat_minor": 2
}
