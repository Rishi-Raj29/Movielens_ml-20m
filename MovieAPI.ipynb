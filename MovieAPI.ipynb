{
 "cells": [
  {
   "cell_type": "code",
   "execution_count": 1,
   "metadata": {},
   "outputs": [
    {
     "name": "stdout",
     "output_type": "stream",
     "text": [
      "Collecting jupyter_kernel_gateway\n",
      "  Downloading https://files.pythonhosted.org/packages/5b/bf/4dca0bd339d243ebc70b96c8a702a91cb83c551e0cc26bf273c3528f00e0/jupyter_kernel_gateway-2.5.1-py3-none-any.whl (46kB)\n",
      "Requirement already satisfied: notebook<7.0,>=5.7.6 in c:\\users\\rishiraj41\\anaconda3\\lib\\site-packages (from jupyter_kernel_gateway) (6.0.0)\n",
      "Requirement already satisfied: jupyter-client>=5.2.0 in c:\\users\\rishiraj41\\anaconda3\\lib\\site-packages (from jupyter_kernel_gateway) (5.3.1)\n",
      "Requirement already satisfied: jupyter-core>=4.4.0 in c:\\users\\rishiraj41\\anaconda3\\lib\\site-packages (from jupyter_kernel_gateway) (4.5.0)\n",
      "Requirement already satisfied: tornado>=4.2.0 in c:\\users\\rishiraj41\\anaconda3\\lib\\site-packages (from jupyter_kernel_gateway) (6.0.3)\n",
      "Requirement already satisfied: requests<3.0,>=2.7 in c:\\users\\rishiraj41\\anaconda3\\lib\\site-packages (from jupyter_kernel_gateway) (2.22.0)\n",
      "Requirement already satisfied: traitlets>=4.2.0 in c:\\users\\rishiraj41\\anaconda3\\lib\\site-packages (from jupyter_kernel_gateway) (4.3.2)\n",
      "Requirement already satisfied: nbformat in c:\\users\\rishiraj41\\anaconda3\\lib\\site-packages (from notebook<7.0,>=5.7.6->jupyter_kernel_gateway) (4.4.0)\n",
      "Requirement already satisfied: nbconvert in c:\\users\\rishiraj41\\anaconda3\\lib\\site-packages (from notebook<7.0,>=5.7.6->jupyter_kernel_gateway) (5.5.0)\n",
      "Requirement already satisfied: Send2Trash in c:\\users\\rishiraj41\\anaconda3\\lib\\site-packages (from notebook<7.0,>=5.7.6->jupyter_kernel_gateway) (1.5.0)\n",
      "Requirement already satisfied: prometheus-client in c:\\users\\rishiraj41\\anaconda3\\lib\\site-packages (from notebook<7.0,>=5.7.6->jupyter_kernel_gateway) (0.7.1)\n",
      "Requirement already satisfied: terminado>=0.8.1 in c:\\users\\rishiraj41\\anaconda3\\lib\\site-packages (from notebook<7.0,>=5.7.6->jupyter_kernel_gateway) (0.8.2)\n",
      "Requirement already satisfied: pyzmq>=17 in c:\\users\\rishiraj41\\anaconda3\\lib\\site-packages (from notebook<7.0,>=5.7.6->jupyter_kernel_gateway) (18.0.0)\n",
      "Requirement already satisfied: ipython-genutils in c:\\users\\rishiraj41\\anaconda3\\lib\\site-packages (from notebook<7.0,>=5.7.6->jupyter_kernel_gateway) (0.2.0)\n",
      "Requirement already satisfied: ipykernel in c:\\users\\rishiraj41\\anaconda3\\lib\\site-packages (from notebook<7.0,>=5.7.6->jupyter_kernel_gateway) (5.1.1)\n",
      "Requirement already satisfied: jinja2 in c:\\users\\rishiraj41\\anaconda3\\lib\\site-packages (from notebook<7.0,>=5.7.6->jupyter_kernel_gateway) (2.10.1)\n",
      "Requirement already satisfied: python-dateutil>=2.1 in c:\\users\\rishiraj41\\anaconda3\\lib\\site-packages (from jupyter-client>=5.2.0->jupyter_kernel_gateway) (2.8.0)\n",
      "Requirement already satisfied: certifi>=2017.4.17 in c:\\users\\rishiraj41\\anaconda3\\lib\\site-packages (from requests<3.0,>=2.7->jupyter_kernel_gateway) (2021.5.30)\n",
      "Requirement already satisfied: urllib3!=1.25.0,!=1.25.1,<1.26,>=1.21.1 in c:\\users\\rishiraj41\\anaconda3\\lib\\site-packages (from requests<3.0,>=2.7->jupyter_kernel_gateway) (1.24.2)\n",
      "Requirement already satisfied: chardet<3.1.0,>=3.0.2 in c:\\users\\rishiraj41\\anaconda3\\lib\\site-packages (from requests<3.0,>=2.7->jupyter_kernel_gateway) (3.0.4)\n",
      "Requirement already satisfied: idna<2.9,>=2.5 in c:\\users\\rishiraj41\\anaconda3\\lib\\site-packages (from requests<3.0,>=2.7->jupyter_kernel_gateway) (2.8)\n",
      "Requirement already satisfied: decorator in c:\\users\\rishiraj41\\anaconda3\\lib\\site-packages (from traitlets>=4.2.0->jupyter_kernel_gateway) (4.4.0)\n",
      "Requirement already satisfied: six in c:\\users\\rishiraj41\\anaconda3\\lib\\site-packages (from traitlets>=4.2.0->jupyter_kernel_gateway) (1.12.0)\n",
      "Requirement already satisfied: jsonschema!=2.5.0,>=2.4 in c:\\users\\rishiraj41\\anaconda3\\lib\\site-packages (from nbformat->notebook<7.0,>=5.7.6->jupyter_kernel_gateway) (3.0.1)\n",
      "Requirement already satisfied: pygments in c:\\users\\rishiraj41\\anaconda3\\lib\\site-packages (from nbconvert->notebook<7.0,>=5.7.6->jupyter_kernel_gateway) (2.4.2)\n",
      "Requirement already satisfied: pandocfilters>=1.4.1 in c:\\users\\rishiraj41\\anaconda3\\lib\\site-packages (from nbconvert->notebook<7.0,>=5.7.6->jupyter_kernel_gateway) (1.4.2)\n",
      "Requirement already satisfied: defusedxml in c:\\users\\rishiraj41\\anaconda3\\lib\\site-packages (from nbconvert->notebook<7.0,>=5.7.6->jupyter_kernel_gateway) (0.6.0)\n",
      "Requirement already satisfied: testpath in c:\\users\\rishiraj41\\anaconda3\\lib\\site-packages (from nbconvert->notebook<7.0,>=5.7.6->jupyter_kernel_gateway) (0.4.2)\n",
      "Requirement already satisfied: mistune>=0.8.1 in c:\\users\\rishiraj41\\anaconda3\\lib\\site-packages (from nbconvert->notebook<7.0,>=5.7.6->jupyter_kernel_gateway) (0.8.4)\n",
      "Requirement already satisfied: entrypoints>=0.2.2 in c:\\users\\rishiraj41\\anaconda3\\lib\\site-packages (from nbconvert->notebook<7.0,>=5.7.6->jupyter_kernel_gateway) (0.3)\n",
      "Requirement already satisfied: bleach in c:\\users\\rishiraj41\\anaconda3\\lib\\site-packages (from nbconvert->notebook<7.0,>=5.7.6->jupyter_kernel_gateway) (3.1.0)\n",
      "Requirement already satisfied: ipython>=5.0.0 in c:\\users\\rishiraj41\\anaconda3\\lib\\site-packages (from ipykernel->notebook<7.0,>=5.7.6->jupyter_kernel_gateway) (7.6.1)\n",
      "Requirement already satisfied: MarkupSafe>=0.23 in c:\\users\\rishiraj41\\anaconda3\\lib\\site-packages (from jinja2->notebook<7.0,>=5.7.6->jupyter_kernel_gateway) (1.1.1)\n",
      "Requirement already satisfied: attrs>=17.4.0 in c:\\users\\rishiraj41\\anaconda3\\lib\\site-packages (from jsonschema!=2.5.0,>=2.4->nbformat->notebook<7.0,>=5.7.6->jupyter_kernel_gateway) (19.1.0)\n",
      "Requirement already satisfied: pyrsistent>=0.14.0 in c:\\users\\rishiraj41\\anaconda3\\lib\\site-packages (from jsonschema!=2.5.0,>=2.4->nbformat->notebook<7.0,>=5.7.6->jupyter_kernel_gateway) (0.14.11)\n",
      "Requirement already satisfied: setuptools in c:\\users\\rishiraj41\\anaconda3\\lib\\site-packages (from jsonschema!=2.5.0,>=2.4->nbformat->notebook<7.0,>=5.7.6->jupyter_kernel_gateway) (41.0.1)\n",
      "Requirement already satisfied: webencodings in c:\\users\\rishiraj41\\anaconda3\\lib\\site-packages (from bleach->nbconvert->notebook<7.0,>=5.7.6->jupyter_kernel_gateway) (0.5.1)\n",
      "Requirement already satisfied: colorama; sys_platform == \"win32\" in c:\\users\\rishiraj41\\anaconda3\\lib\\site-packages (from ipython>=5.0.0->ipykernel->notebook<7.0,>=5.7.6->jupyter_kernel_gateway) (0.4.1)\n",
      "Requirement already satisfied: prompt-toolkit<2.1.0,>=2.0.0 in c:\\users\\rishiraj41\\anaconda3\\lib\\site-packages (from ipython>=5.0.0->ipykernel->notebook<7.0,>=5.7.6->jupyter_kernel_gateway) (2.0.9)\n",
      "Requirement already satisfied: backcall in c:\\users\\rishiraj41\\anaconda3\\lib\\site-packages (from ipython>=5.0.0->ipykernel->notebook<7.0,>=5.7.6->jupyter_kernel_gateway) (0.1.0)\n",
      "Requirement already satisfied: pickleshare in c:\\users\\rishiraj41\\anaconda3\\lib\\site-packages (from ipython>=5.0.0->ipykernel->notebook<7.0,>=5.7.6->jupyter_kernel_gateway) (0.7.5)\n",
      "Requirement already satisfied: jedi>=0.10 in c:\\users\\rishiraj41\\anaconda3\\lib\\site-packages (from ipython>=5.0.0->ipykernel->notebook<7.0,>=5.7.6->jupyter_kernel_gateway) (0.13.3)\n",
      "Requirement already satisfied: wcwidth in c:\\users\\rishiraj41\\anaconda3\\lib\\site-packages (from prompt-toolkit<2.1.0,>=2.0.0->ipython>=5.0.0->ipykernel->notebook<7.0,>=5.7.6->jupyter_kernel_gateway) (0.1.7)\n",
      "Requirement already satisfied: parso>=0.3.0 in c:\\users\\rishiraj41\\anaconda3\\lib\\site-packages (from jedi>=0.10->ipython>=5.0.0->ipykernel->notebook<7.0,>=5.7.6->jupyter_kernel_gateway) (0.5.0)\n",
      "Installing collected packages: jupyter-kernel-gateway\n",
      "Successfully installed jupyter-kernel-gateway-2.5.1\n"
     ]
    }
   ],
   "source": [
    "! pip install jupyter_kernel_gateway"
   ]
  },
  {
   "cell_type": "code",
   "execution_count": 6,
   "metadata": {},
   "outputs": [],
   "source": [
    "import json\n",
    "import pandas as pd\n",
    "import psycopg2 as ps"
   ]
  },
  {
   "cell_type": "code",
   "execution_count": 7,
   "metadata": {},
   "outputs": [],
   "source": [
    "#functions\n",
    "\n",
    "def connect_to_db(host_name, dbname,  username, password, port):\n",
    "  try:\n",
    "    #dsn_tns=cx_Oracle.makedsn( host=host_name, port=port, service_name=service_name)\n",
    "    conn = ps.connect(host=host_name,database=dbname,user=username,password=password,port=port)\n",
    "\n",
    "  except ps.OperationalError as e:\n",
    "    raise e\n",
    "  else:\n",
    "    print('Successfully Connected')\n",
    "    return conn"
   ]
  },
  {
   "cell_type": "code",
   "execution_count": 8,
   "metadata": {},
   "outputs": [
    {
     "name": "stdout",
     "output_type": "stream",
     "text": [
      "Successfully Connected\n"
     ]
    }
   ],
   "source": [
    "#database credentials\n",
    "host_name='localhost'\n",
    "dbname='postgres'\n",
    "  #service_name='orclpdb.t.hu'\n",
    "  #dsn_name= 'localhost:1521/orclpdb.t.hu'\n",
    "username='postgres'\n",
    "password='123'\n",
    "port='5432'\n",
    "conn= None\n",
    "\n",
    "#establish a connection to db\n",
    "\n",
    "conn= connect_to_db(host_name, dbname,username,password, port)\n"
   ]
  },
  {
   "cell_type": "code",
   "execution_count": 12,
   "metadata": {},
   "outputs": [
    {
     "ename": "DatabaseError",
     "evalue": "Execution failed on sql 'SELECT * from movies where \"genres\" = \"None\"': column \"None\" does not exist\nLINE 1: SELECT * from movies where \"genres\" = \"None\"\n                                              ^\n",
     "output_type": "error",
     "traceback": [
      "\u001b[1;31m---------------------------------------------------------------------------\u001b[0m",
      "\u001b[1;31mUndefinedColumn\u001b[0m                           Traceback (most recent call last)",
      "\u001b[1;32m~\\Anaconda3\\lib\\site-packages\\pandas\\io\\sql.py\u001b[0m in \u001b[0;36mexecute\u001b[1;34m(self, *args, **kwargs)\u001b[0m\n\u001b[0;32m   1430\u001b[0m             \u001b[1;32melse\u001b[0m\u001b[1;33m:\u001b[0m\u001b[1;33m\u001b[0m\u001b[1;33m\u001b[0m\u001b[0m\n\u001b[1;32m-> 1431\u001b[1;33m                 \u001b[0mcur\u001b[0m\u001b[1;33m.\u001b[0m\u001b[0mexecute\u001b[0m\u001b[1;33m(\u001b[0m\u001b[1;33m*\u001b[0m\u001b[0margs\u001b[0m\u001b[1;33m)\u001b[0m\u001b[1;33m\u001b[0m\u001b[1;33m\u001b[0m\u001b[0m\n\u001b[0m\u001b[0;32m   1432\u001b[0m             \u001b[1;32mreturn\u001b[0m \u001b[0mcur\u001b[0m\u001b[1;33m\u001b[0m\u001b[1;33m\u001b[0m\u001b[0m\n",
      "\u001b[1;31mUndefinedColumn\u001b[0m: column \"None\" does not exist\nLINE 1: SELECT * from movies where \"genres\" = \"None\"\n                                              ^\n",
      "\nDuring handling of the above exception, another exception occurred:\n",
      "\u001b[1;31mDatabaseError\u001b[0m                             Traceback (most recent call last)",
      "\u001b[1;32m<ipython-input-12-629194b83396>\u001b[0m in \u001b[0;36m<module>\u001b[1;34m\u001b[0m\n\u001b[0;32m     10\u001b[0m \u001b[1;33m\u001b[0m\u001b[0m\n\u001b[0;32m     11\u001b[0m \u001b[0mq\u001b[0m\u001b[1;33m=\u001b[0m \u001b[1;34m'''SELECT * from movies where \"genres\" = \"{genres}\"'''\u001b[0m\u001b[1;33m.\u001b[0m\u001b[0mformat\u001b[0m\u001b[1;33m(\u001b[0m\u001b[0mgenres\u001b[0m\u001b[1;33m=\u001b[0m\u001b[0mgenres\u001b[0m\u001b[1;33m)\u001b[0m\u001b[1;33m\u001b[0m\u001b[1;33m\u001b[0m\u001b[0m\n\u001b[1;32m---> 12\u001b[1;33m \u001b[0mprint\u001b[0m\u001b[1;33m(\u001b[0m\u001b[1;34m'{\"genres\":%s}'\u001b[0m \u001b[1;33m%\u001b[0m \u001b[0mpd\u001b[0m\u001b[1;33m.\u001b[0m\u001b[0mread_sql_query\u001b[0m\u001b[1;33m(\u001b[0m\u001b[0mq\u001b[0m\u001b[1;33m,\u001b[0m\u001b[0mconn\u001b[0m\u001b[1;33m)\u001b[0m\u001b[1;33m.\u001b[0m\u001b[0mto_json\u001b[0m\u001b[1;33m(\u001b[0m\u001b[0morient\u001b[0m\u001b[1;33m=\u001b[0m\u001b[1;34m'records'\u001b[0m\u001b[1;33m)\u001b[0m\u001b[1;33m)\u001b[0m\u001b[1;33m\u001b[0m\u001b[1;33m\u001b[0m\u001b[0m\n\u001b[0m",
      "\u001b[1;32m~\\Anaconda3\\lib\\site-packages\\pandas\\io\\sql.py\u001b[0m in \u001b[0;36mread_sql_query\u001b[1;34m(sql, con, index_col, coerce_float, params, parse_dates, chunksize)\u001b[0m\n\u001b[0;32m    312\u001b[0m     return pandas_sql.read_query(\n\u001b[0;32m    313\u001b[0m         \u001b[0msql\u001b[0m\u001b[1;33m,\u001b[0m \u001b[0mindex_col\u001b[0m\u001b[1;33m=\u001b[0m\u001b[0mindex_col\u001b[0m\u001b[1;33m,\u001b[0m \u001b[0mparams\u001b[0m\u001b[1;33m=\u001b[0m\u001b[0mparams\u001b[0m\u001b[1;33m,\u001b[0m \u001b[0mcoerce_float\u001b[0m\u001b[1;33m=\u001b[0m\u001b[0mcoerce_float\u001b[0m\u001b[1;33m,\u001b[0m\u001b[1;33m\u001b[0m\u001b[1;33m\u001b[0m\u001b[0m\n\u001b[1;32m--> 314\u001b[1;33m         parse_dates=parse_dates, chunksize=chunksize)\n\u001b[0m\u001b[0;32m    315\u001b[0m \u001b[1;33m\u001b[0m\u001b[0m\n\u001b[0;32m    316\u001b[0m \u001b[1;33m\u001b[0m\u001b[0m\n",
      "\u001b[1;32m~\\Anaconda3\\lib\\site-packages\\pandas\\io\\sql.py\u001b[0m in \u001b[0;36mread_query\u001b[1;34m(self, sql, index_col, coerce_float, params, parse_dates, chunksize)\u001b[0m\n\u001b[0;32m   1466\u001b[0m \u001b[1;33m\u001b[0m\u001b[0m\n\u001b[0;32m   1467\u001b[0m         \u001b[0margs\u001b[0m \u001b[1;33m=\u001b[0m \u001b[0m_convert_params\u001b[0m\u001b[1;33m(\u001b[0m\u001b[0msql\u001b[0m\u001b[1;33m,\u001b[0m \u001b[0mparams\u001b[0m\u001b[1;33m)\u001b[0m\u001b[1;33m\u001b[0m\u001b[1;33m\u001b[0m\u001b[0m\n\u001b[1;32m-> 1468\u001b[1;33m         \u001b[0mcursor\u001b[0m \u001b[1;33m=\u001b[0m \u001b[0mself\u001b[0m\u001b[1;33m.\u001b[0m\u001b[0mexecute\u001b[0m\u001b[1;33m(\u001b[0m\u001b[1;33m*\u001b[0m\u001b[0margs\u001b[0m\u001b[1;33m)\u001b[0m\u001b[1;33m\u001b[0m\u001b[1;33m\u001b[0m\u001b[0m\n\u001b[0m\u001b[0;32m   1469\u001b[0m         \u001b[0mcolumns\u001b[0m \u001b[1;33m=\u001b[0m \u001b[1;33m[\u001b[0m\u001b[0mcol_desc\u001b[0m\u001b[1;33m[\u001b[0m\u001b[1;36m0\u001b[0m\u001b[1;33m]\u001b[0m \u001b[1;32mfor\u001b[0m \u001b[0mcol_desc\u001b[0m \u001b[1;32min\u001b[0m \u001b[0mcursor\u001b[0m\u001b[1;33m.\u001b[0m\u001b[0mdescription\u001b[0m\u001b[1;33m]\u001b[0m\u001b[1;33m\u001b[0m\u001b[1;33m\u001b[0m\u001b[0m\n\u001b[0;32m   1470\u001b[0m \u001b[1;33m\u001b[0m\u001b[0m\n",
      "\u001b[1;32m~\\Anaconda3\\lib\\site-packages\\pandas\\io\\sql.py\u001b[0m in \u001b[0;36mexecute\u001b[1;34m(self, *args, **kwargs)\u001b[0m\n\u001b[0;32m   1443\u001b[0m                 \"Execution failed on sql '{sql}': {exc}\".format(\n\u001b[0;32m   1444\u001b[0m                     sql=args[0], exc=exc))\n\u001b[1;32m-> 1445\u001b[1;33m             \u001b[0mraise_with_traceback\u001b[0m\u001b[1;33m(\u001b[0m\u001b[0mex\u001b[0m\u001b[1;33m)\u001b[0m\u001b[1;33m\u001b[0m\u001b[1;33m\u001b[0m\u001b[0m\n\u001b[0m\u001b[0;32m   1446\u001b[0m \u001b[1;33m\u001b[0m\u001b[0m\n\u001b[0;32m   1447\u001b[0m     \u001b[1;33m@\u001b[0m\u001b[0mstaticmethod\u001b[0m\u001b[1;33m\u001b[0m\u001b[1;33m\u001b[0m\u001b[0m\n",
      "\u001b[1;32m~\\Anaconda3\\lib\\site-packages\\pandas\\compat\\__init__.py\u001b[0m in \u001b[0;36mraise_with_traceback\u001b[1;34m(exc, traceback)\u001b[0m\n\u001b[0;32m    418\u001b[0m         \u001b[1;32mif\u001b[0m \u001b[0mtraceback\u001b[0m \u001b[1;33m==\u001b[0m \u001b[0mEllipsis\u001b[0m\u001b[1;33m:\u001b[0m\u001b[1;33m\u001b[0m\u001b[1;33m\u001b[0m\u001b[0m\n\u001b[0;32m    419\u001b[0m             \u001b[0m_\u001b[0m\u001b[1;33m,\u001b[0m \u001b[0m_\u001b[0m\u001b[1;33m,\u001b[0m \u001b[0mtraceback\u001b[0m \u001b[1;33m=\u001b[0m \u001b[0msys\u001b[0m\u001b[1;33m.\u001b[0m\u001b[0mexc_info\u001b[0m\u001b[1;33m(\u001b[0m\u001b[1;33m)\u001b[0m\u001b[1;33m\u001b[0m\u001b[1;33m\u001b[0m\u001b[0m\n\u001b[1;32m--> 420\u001b[1;33m         \u001b[1;32mraise\u001b[0m \u001b[0mexc\u001b[0m\u001b[1;33m.\u001b[0m\u001b[0mwith_traceback\u001b[0m\u001b[1;33m(\u001b[0m\u001b[0mtraceback\u001b[0m\u001b[1;33m)\u001b[0m\u001b[1;33m\u001b[0m\u001b[1;33m\u001b[0m\u001b[0m\n\u001b[0m\u001b[0;32m    421\u001b[0m \u001b[1;32melse\u001b[0m\u001b[1;33m:\u001b[0m\u001b[1;33m\u001b[0m\u001b[1;33m\u001b[0m\u001b[0m\n\u001b[0;32m    422\u001b[0m     \u001b[1;31m# this version of raise is a syntax error in Python 3\u001b[0m\u001b[1;33m\u001b[0m\u001b[1;33m\u001b[0m\u001b[1;33m\u001b[0m\u001b[0m\n",
      "\u001b[1;32m~\\Anaconda3\\lib\\site-packages\\pandas\\io\\sql.py\u001b[0m in \u001b[0;36mexecute\u001b[1;34m(self, *args, **kwargs)\u001b[0m\n\u001b[0;32m   1429\u001b[0m                 \u001b[0mcur\u001b[0m\u001b[1;33m.\u001b[0m\u001b[0mexecute\u001b[0m\u001b[1;33m(\u001b[0m\u001b[1;33m*\u001b[0m\u001b[0margs\u001b[0m\u001b[1;33m,\u001b[0m \u001b[1;33m**\u001b[0m\u001b[0mkwargs\u001b[0m\u001b[1;33m)\u001b[0m\u001b[1;33m\u001b[0m\u001b[1;33m\u001b[0m\u001b[0m\n\u001b[0;32m   1430\u001b[0m             \u001b[1;32melse\u001b[0m\u001b[1;33m:\u001b[0m\u001b[1;33m\u001b[0m\u001b[1;33m\u001b[0m\u001b[0m\n\u001b[1;32m-> 1431\u001b[1;33m                 \u001b[0mcur\u001b[0m\u001b[1;33m.\u001b[0m\u001b[0mexecute\u001b[0m\u001b[1;33m(\u001b[0m\u001b[1;33m*\u001b[0m\u001b[0margs\u001b[0m\u001b[1;33m)\u001b[0m\u001b[1;33m\u001b[0m\u001b[1;33m\u001b[0m\u001b[0m\n\u001b[0m\u001b[0;32m   1432\u001b[0m             \u001b[1;32mreturn\u001b[0m \u001b[0mcur\u001b[0m\u001b[1;33m\u001b[0m\u001b[1;33m\u001b[0m\u001b[0m\n\u001b[0;32m   1433\u001b[0m         \u001b[1;32mexcept\u001b[0m \u001b[0mException\u001b[0m \u001b[1;32mas\u001b[0m \u001b[0mexc\u001b[0m\u001b[1;33m:\u001b[0m\u001b[1;33m\u001b[0m\u001b[1;33m\u001b[0m\u001b[0m\n",
      "\u001b[1;31mDatabaseError\u001b[0m: Execution failed on sql 'SELECT * from movies where \"genres\" = \"None\"': column \"None\" does not exist\nLINE 1: SELECT * from movies where \"genres\" = \"None\"\n                                              ^\n"
     ]
    }
   ],
   "source": [
    "REQUEST = json.dumps({\n",
    "    'path' : {},\n",
    "    'args' : {}\n",
    "})\n",
    "\n",
    "#GET /Movies/: genres\n",
    "\n",
    "request = json.loads(REQUEST)\n",
    "genres = request['path'].get('genres')\n",
    "\n",
    "q= '''SELECT * from movies where \"genres\" = \"{genres}\"'''.format(genres=genres)\n",
    "print('{\"genres\":%s}' % pd.read_sql_query(q,conn).to_json(orient='records'))"
   ]
  },
  {
   "cell_type": "code",
   "execution_count": 13,
   "metadata": {},
   "outputs": [
    {
     "ename": "SyntaxError",
     "evalue": "invalid syntax (<ipython-input-13-86958cac199c>, line 1)",
     "output_type": "error",
     "traceback": [
      "\u001b[1;36m  File \u001b[1;32m\"<ipython-input-13-86958cac199c>\"\u001b[1;36m, line \u001b[1;32m1\u001b[0m\n\u001b[1;33m    jupyter kernelgateway --\u001b[0m\n\u001b[1;37m                        ^\u001b[0m\n\u001b[1;31mSyntaxError\u001b[0m\u001b[1;31m:\u001b[0m invalid syntax\n"
     ]
    }
   ],
   "source": [
    "jupyter kernelgateway --\n",
    "KernelGatewayApp.api='kernel_gateway.notebook_http' --\n",
    "seed_uri='./MovieAPI.ipynb' --port 9090"
   ]
  },
  {
   "cell_type": "code",
   "execution_count": null,
   "metadata": {},
   "outputs": [],
   "source": []
  }
 ],
 "metadata": {
  "kernelspec": {
   "display_name": "Python 3",
   "language": "python",
   "name": "python3"
  },
  "language_info": {
   "codemirror_mode": {
    "name": "ipython",
    "version": 3
   },
   "file_extension": ".py",
   "mimetype": "text/x-python",
   "name": "python",
   "nbconvert_exporter": "python",
   "pygments_lexer": "ipython3",
   "version": "3.7.3"
  }
 },
 "nbformat": 4,
 "nbformat_minor": 2
}
